{
 "cells": [
  {
   "cell_type": "markdown",
   "metadata": {},
   "source": [
    "# Stochastic Compute Metadata Summary\n",
    "\n",
    "This is a proof of concept summary notebook, created using data from this stac [catalog](https://ffrd.cloud.dewberryanalytics.com/projects/kanawha/stac), to provide high level overview of the results from a stochastic compute.\n",
    "\n",
    "---\n",
    "\n",
    "# --Notebook Name Here--\n",
    "## Storms Summary\n",
    "\n",
    "The map below shows the storm centers for all events simulated. Smaller events generating < 1.0\" of excess precipitation are shown in blue, and larger events are shown in red. Circles are also sized based on excess precipitation.\n",
    "\n",
    "Hover over the points to get the date, and click on the point to see the execess precipitation for that event. Go to [stormviewer](https://storms.dewberryanalytics.com/) to get addtional information."
   ]
  },
  {
   "cell_type": "code",
   "execution_count": 10,
   "metadata": {},
   "outputs": [],
   "source": [
    "from pystac_client import Client\n",
    "import pystac\n",
    "import geopandas as gpd\n",
    "import pandas as pd\n",
    "from shapely.geometry import Point\n",
    "import matplotlib.pyplot as plt\n",
    "import numpy as np\n",
    "import folium\n",
    "\n",
    "client = Client.open(\"https://uampjfpbwi.us-east-1.awsapprunner.com/\")\n",
    "\n",
    "model_ids = [\n",
    "    \"BluestoneLocal\",\n",
    "    \"BluestoneUpper\",\n",
    "    \"Coal\",\n",
    "    \"ElkMiddle\",\n",
    "    \"ElkSutton\",\n",
    "    \"GauleyLower\",\n",
    "    \"GauleySummersville\",\n",
    "    \"Greenbrier\",\n",
    "    \"Little\",\n",
    "    \"LowerKanawha\",\n",
    "    \"LowerNew\",\n",
    "    \"MiddleNew\",\n",
    "    \"UpperKanawha\",\n",
    "    \"UpperNew\",\n",
    "]\n",
    "\n",
    "desired_model_id_index = 8"
   ]
  },
  {
   "cell_type": "code",
   "execution_count": 11,
   "metadata": {},
   "outputs": [],
   "source": [
    "def get_props(collection, model_id):\n",
    "    rows = []\n",
    "    for i in range(1,1001):\n",
    "        item_id = f\"{model_id}-{i:04}\"\n",
    "        try:\n",
    "            item = collection.get_item(item_id)\n",
    "            properties = item.properties\n",
    "\n",
    "            row = {\n",
    "                'computation_time_total': properties.get(\"results_summary:computation_time_total\"),\n",
    "                'error_percent': properties.get(\"volume_accounting:error_percent\"),\n",
    "                'precipitation_excess_inches': properties.get(\"volume_accounting:precipitation_excess_inches\"),\n",
    "                'Historic_Storm_Date': properties.get(\"FFRD:storm_historic_date\"),\n",
    "                'longitude': properties.get(\"FFRD:longitude\"),\n",
    "                'latitude': properties.get(\"FFRD:latitude\"),\n",
    "            }\n",
    "            rows.append(row)\n",
    "        except:\n",
    "            print(f\"{item_id} not available.\")\n",
    "\n",
    "    df = pd.DataFrame(rows)\n",
    "    df['geometry'] = [Point(xy) for xy in zip(df['longitude'], df['latitude'])]\n",
    "    gdf = gpd.GeoDataFrame(df, geometry='geometry')\n",
    "    gdf.crs = \"EPSG:4326\"\n",
    "\n",
    "    return gdf"
   ]
  },
  {
   "cell_type": "code",
   "execution_count": 12,
   "metadata": {},
   "outputs": [],
   "source": [
    "client\n",
    "collection = client.get_collection(\"kanawha-simulations-march-2024\")"
   ]
  },
  {
   "cell_type": "code",
   "execution_count": 13,
   "metadata": {},
   "outputs": [],
   "source": [
    "model_id = model_ids[desired_model_id_index]\n",
    "gdf = get_props(collection, model_id)"
   ]
  },
  {
   "cell_type": "code",
   "execution_count": null,
   "metadata": {},
   "outputs": [],
   "source": [
    "geom_collection = client.get_collection(\"kanawha-models-march-2024\")\n",
    "geom_item = client.get_item(model_id)"
   ]
  },
  {
   "cell_type": "code",
   "execution_count": null,
   "metadata": {},
   "outputs": [],
   "source": [
    "\n",
    "m = folium.Map(location=[gdf['latitude'].mean(), gdf['longitude'].mean()], zoom_start=7, tiles='OpenStreetMap',width='80%')\n",
    "\n",
    "item = collection.get_item(f\"{model_id}-0001\")\n",
    "folium.GeoJson(item.geometry, style_function=lambda x: {'fillColor': 'black', 'color': 'black'}).add_to(m)\n",
    "\n",
    "for idx, row in gdf.iterrows():\n",
    "    color = 'red' if row['precipitation_excess_inches'] > 1 else 'blue'  # Set the color to green if 'precip' is greater than 0.75, otherwise set it to black\n",
    "    folium.CircleMarker(location=[row['latitude'], row['longitude']],\n",
    "                        radius=row['precipitation_excess_inches'] + 2,  # Set the radius to the 'precip' property\n",
    "                        popup=row['precipitation_excess_inches'],\n",
    "                        tooltip=row['Historic_Storm_Date'],\n",
    "                        fill=True,\n",
    "                        fill_color=color,  # Set the fill color to blue\n",
    "                        color=color  # Use the color variable to set the border color\n",
    "                        ).add_to(m)\n",
    "\n",
    "\n",
    "m"
   ]
  },
  {
   "cell_type": "markdown",
   "metadata": {},
   "source": [
    "\n",
    "\n",
    "# Summary Statistics \n",
    "\n",
    "---\n",
    "\n",
    "## Total Compute Time"
   ]
  },
  {
   "cell_type": "code",
   "execution_count": null,
   "metadata": {},
   "outputs": [],
   "source": [
    "# Convert time column to total minutes (divide total seconds by 60)\n",
    "gdf['computation_time_min'] = pd.to_timedelta(gdf['computation_time_total']).dt.total_seconds() / 60\n",
    "\n",
    "plt.figure(figsize=(10, 6))\n",
    "plt.hist(gdf['computation_time_min'], bins=20, color='red', edgecolor='black')\n",
    "ymin, ymax = plt.ylim()\n",
    "\n",
    "plt.ylim(ymin, np.ceil(ymax))\n",
    "\n",
    "plt.yticks(np.arange(ymin, np.ceil(ymax)+1, 100))\n",
    "plt.grid(False)\n",
    "\n",
    "plt.xlabel('Total Computation Time (min)')\n",
    "plt.ylabel('Frequency')\n",
    "plt.title('Total Computation Time')\n",
    "plt.show()"
   ]
  },
  {
   "cell_type": "markdown",
   "metadata": {},
   "source": [
    "Note that the compute time may vary based on CPU used in cloud compute."
   ]
  },
  {
   "cell_type": "markdown",
   "metadata": {},
   "source": [
    "## Volume Error Summary"
   ]
  },
  {
   "cell_type": "code",
   "execution_count": null,
   "metadata": {},
   "outputs": [],
   "source": [
    "plt.figure(figsize=(10, 6))\n",
    "gdf[\"error_percent\"].plot(kind='hist', bins=50, color='blue', edgecolor='black')\n",
    "plt.xlabel('Error %')\n",
    "plt.ylabel('Frequency')\n",
    "plt.title(f'Percent Error')\n",
    "\n",
    "ymin, ymax = plt.ylim()\n",
    "\n",
    "plt.ylim(ymin, np.ceil(ymax))\n",
    "\n",
    "plt.yticks(np.arange(ymin, np.ceil(ymax)+1, 50))\n",
    "plt.grid(False)\n",
    "\n",
    "plt.show()"
   ]
  },
  {
   "cell_type": "markdown",
   "metadata": {},
   "source": [
    "## Excess Precipitation Summary"
   ]
  },
  {
   "cell_type": "code",
   "execution_count": null,
   "metadata": {},
   "outputs": [],
   "source": [
    "plt.figure(figsize=(10, 6))\n",
    "gdf[\"precipitation_excess_inches\"].plot(kind='hist', bins=50, color='green', edgecolor='black')\n",
    "\n",
    "plt.xlabel('Precipitation Excess (in.)')\n",
    "plt.ylabel('Frequency')\n",
    "plt.title(f'Precipitation Excess')\n",
    "\n",
    "ymin, ymax = plt.ylim()\n",
    "\n",
    "plt.ylim(ymin, np.ceil(ymax))\n",
    "\n",
    "plt.yticks(np.arange(ymin, np.ceil(ymax)+1, 100))\n",
    "plt.show()"
   ]
  },
  {
   "cell_type": "markdown",
   "metadata": {},
   "source": [
    "# END"
   ]
  }
 ],
 "metadata": {
  "kernelspec": {
   "display_name": "Python 3 (ipykernel)",
   "language": "python",
   "name": "python3"
  },
  "language_info": {
   "codemirror_mode": {
    "name": "ipython",
    "version": 3
   },
   "file_extension": ".py",
   "mimetype": "text/x-python",
   "name": "python",
   "nbconvert_exporter": "python",
   "pygments_lexer": "ipython3",
   "version": "3.10.14"
  }
 },
 "nbformat": 4,
 "nbformat_minor": 4
}
