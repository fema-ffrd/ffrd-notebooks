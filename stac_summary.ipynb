{
 "cells": [
  {
   "cell_type": "markdown",
   "metadata": {},
   "source": [
    "# Stochastic Compute Metadata Summary\n",
    "\n",
    "This is a proof of concept summary notebook, created using data from this stac [catalog](https://ffrd.cloud.dewberryanalytics.com/projects/kanawha/stac), to provide high level overview of the results from a stochastic compute.\n",
    "\n",
    "---\n",
    "\n",
    "\n",
    "## Storms Summary\n",
    "\n",
    "The map below shows the storm centers for all events simulated. Smaller events generating < 1.0\" of excess precipitation are shown in blue, and larger events are shown in red. Circles are also sized based on excess precipitation.\n",
    "\n",
    "Hover over the points to get the date, and click on the point to see the execess precipitation for that event. Go to [stormviewer](https://storms.dewberryanalytics.com/) to get addtional information."
   ]
  },
  {
   "cell_type": "code",
   "execution_count": null,
   "metadata": {},
   "outputs": [],
   "source": [
    "from pystac_client import Client\n",
    "import matplotlib.pyplot as plt\n",
    "import numpy as np\n",
    "import folium\n",
    "from IPython.display import Markdown, display\n",
    "from notebook_utils import get_props, get_stats\n",
    "import scrapbook as sb\n",
    "\n",
    "api_url = \"https://uampjfpbwi.us-east-1.awsapprunner.com/\"\n",
    "storm_items_collection_name = \"kanawha-simulations-march-2024\"\n"
   ]
  },
  {
   "cell_type": "code",
   "execution_count": null,
   "metadata": {
    "tags": [
     "parameters"
    ]
   },
   "outputs": [],
   "source": [
    "model_id = \"BluestoneLocal\"\n"
   ]
  },
  {
   "cell_type": "code",
   "execution_count": null,
   "metadata": {},
   "outputs": [],
   "source": [
    "# Display model ID as markdown\n",
    "markdown_txt = f\"### {model_id}\"\n",
    "display(Markdown(markdown_txt))"
   ]
  },
  {
   "cell_type": "code",
   "execution_count": null,
   "metadata": {},
   "outputs": [],
   "source": [
    "import geopandas as gpd\n",
    "import pandas as pd\n",
    "import scrapbook as sb\n",
    "\n",
    "\n",
    "client = Client.open(api_url)\n",
    "collection = client.get_collection(storm_items_collection_name)\n",
    "gdf = get_props(collection, model_id)"
   ]
  },
  {
   "cell_type": "code",
   "execution_count": null,
   "metadata": {},
   "outputs": [],
   "source": [
    "\n",
    "m = folium.Map(location=[gdf['latitude'].mean(), gdf['longitude'].mean()], zoom_start=7, tiles='OpenStreetMap',width='80%')\n",
    "\n",
    "item = collection.get_item(f\"{model_id}-0001\")\n",
    "folium.GeoJson(item.geometry, style_function=lambda x: {'fillColor': 'black', 'color': 'black'}).add_to(m)\n",
    "\n",
    "for idx, row in gdf.iterrows():\n",
    "    popup_text = f\"Precipitation: {round(row['precipitation_excess_inches'], 3)} inches<br>Item URL: <a href='{row['item_url']}' target='_blank'>Link</a>\"\n",
    "    color = 'red' if row['precipitation_excess_inches'] > 1 else 'blue'  # Set the color to green if 'precip' is greater than 0.75, otherwise set it to black\n",
    "    folium.CircleMarker(location=[row['latitude'], row['longitude']],\n",
    "                        radius=row['precipitation_excess_inches'] + 2,  # Set the radius to the 'precip' property\n",
    "                        popup=folium.Popup(popup_text, max_width=450),\n",
    "                        tooltip=row['Historic_Storm_Date'],\n",
    "                        fill=True,\n",
    "                        fill_color=color,  # Set the fill color to blue\n",
    "                        color=color  # Use the color variable to set the border color\n",
    "                        ).add_to(m)\n",
    "\n",
    "m"
   ]
  },
  {
   "cell_type": "markdown",
   "metadata": {},
   "source": [
    "\n",
    "\n",
    "# Summary Statistics \n",
    "\n",
    "---\n",
    "\n",
    "## Total Compute Time"
   ]
  },
  {
   "cell_type": "code",
   "execution_count": null,
   "metadata": {},
   "outputs": [],
   "source": [
    "\n",
    "# Convert time column to total minutes (divide total seconds by 60)\n",
    "gdf['computation_time_min'] = pd.to_timedelta(gdf['computation_time_total']).dt.total_seconds() / 60\n",
    "\n",
    "plt.figure(figsize=(10, 6))\n",
    "plt.hist(gdf['computation_time_min'], bins=20, color='red', edgecolor='black')\n",
    "ymin, ymax = plt.ylim()\n",
    "\n",
    "plt.ylim(ymin, np.ceil(ymax))\n",
    "\n",
    "plt.yticks(np.arange(ymin, np.ceil(ymax)+1, 100))\n",
    "plt.grid(False)\n",
    "\n",
    "plt.xlabel('Total Computation Time (min)')\n",
    "plt.ylabel('Frequency')\n",
    "plt.title('Total Computation Time')\n",
    "\n",
    "print(\"Stats:\")\n",
    "compute_time_stats = get_stats(gdf['computation_time_min'])\n",
    "display(compute_time_stats)\n",
    "print(\"Histogram:\")\n",
    "plt.show()"
   ]
  },
  {
   "cell_type": "markdown",
   "metadata": {},
   "source": [
    "Note that the compute time may vary based on CPU used in cloud compute."
   ]
  },
  {
   "cell_type": "markdown",
   "metadata": {},
   "source": [
    "## Volume Error Summary"
   ]
  },
  {
   "cell_type": "code",
   "execution_count": null,
   "metadata": {},
   "outputs": [],
   "source": [
    "plt.figure(figsize=(10, 6))\n",
    "gdf[\"error_percent\"].plot(kind='hist', bins=50, color='blue', edgecolor='black')\n",
    "plt.xlabel('Error %')\n",
    "plt.ylabel('Frequency')\n",
    "plt.title(f'Percent Error')\n",
    "\n",
    "ymin, ymax = plt.ylim()\n",
    "\n",
    "plt.ylim(ymin, np.ceil(ymax))\n",
    "\n",
    "plt.yticks(np.arange(ymin, np.ceil(ymax)+1, 50))\n",
    "plt.grid(False)\n",
    "\n",
    "print(\"Stats:\")\n",
    "error_stats = get_stats(gdf[\"error_percent\"])\n",
    "display(error_stats)\n",
    "print(\"Histogram:\")\n",
    "plt.show()"
   ]
  },
  {
   "cell_type": "markdown",
   "metadata": {},
   "source": [
    "## Excess Precipitation Summary"
   ]
  },
  {
   "cell_type": "code",
   "execution_count": null,
   "metadata": {},
   "outputs": [],
   "source": [
    "plt.figure(figsize=(10, 6))\n",
    "gdf[\"precipitation_excess_inches\"].plot(kind='hist', bins=50, color='green', edgecolor='black')\n",
    "\n",
    "plt.xlabel('Precipitation Excess (in.)')\n",
    "plt.ylabel('Frequency')\n",
    "plt.title(f'Precipitation Excess')\n",
    "\n",
    "ymin, ymax = plt.ylim()\n",
    "\n",
    "plt.ylim(ymin, np.ceil(ymax))\n",
    "\n",
    "plt.yticks(np.arange(ymin, np.ceil(ymax)+1, 100))\n",
    "\n",
    "print(\"Stats:\")\n",
    "precip_stats = get_stats(gdf[\"precipitation_excess_inches\"])\n",
    "display(precip_stats)\n",
    "print(\"Histogram:\")\n",
    "plt.show()"
   ]
  },
  {
   "cell_type": "code",
   "execution_count": null,
   "metadata": {},
   "outputs": [],
   "source": [
    "summary_stats = {\"model_id\": model_id,\n",
    "                 \"compute_time_avg\": compute_time_stats['Mean'].item(),\n",
    "                 \"pct_error_avg\": error_stats['Mean'].item(),\n",
    "                 \"precip_excess_avg\":precip_stats['Mean'].item(),\n",
    "                 \"precip_excess_min\":precip_stats['Min'].item(),\n",
    "                 \"precip_excess_max\":precip_stats['Max'].item()}"
   ]
  },
  {
   "cell_type": "code",
   "execution_count": null,
   "metadata": {},
   "outputs": [],
   "source": [
    "sb.glue(\"summary_stats\", summary_stats)"
   ]
  },
  {
   "cell_type": "markdown",
   "metadata": {},
   "source": [
    "# END"
   ]
  }
 ],
 "metadata": {
  "kernelspec": {
   "display_name": "Python 3 (ipykernel)",
   "language": "python",
   "name": "python3"
  },
  "language_info": {
   "codemirror_mode": {
    "name": "ipython",
    "version": 3
   },
   "file_extension": ".py",
   "mimetype": "text/x-python",
   "name": "python",
   "nbconvert_exporter": "python",
   "pygments_lexer": "ipython3",
   "version": "3.10.14"
  }
 },
 "nbformat": 4,
 "nbformat_minor": 4
}
